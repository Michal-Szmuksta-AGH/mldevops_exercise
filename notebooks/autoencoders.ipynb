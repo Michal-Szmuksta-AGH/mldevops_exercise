{
 "cells": [
  {
   "cell_type": "code",
   "execution_count": null,
   "metadata": {},
   "outputs": [],
   "source": [
    "import sys\n",
    "sys.path.append('../autoencoders')"
   ]
  },
  {
   "cell_type": "code",
   "execution_count": null,
   "metadata": {},
   "outputs": [],
   "source": [
    "import autoencoders\n",
    "from autoencoders.models import CNN\n",
    "from autoencoders.trainers import ClassificationTrainer\n",
    "import torch.nn as nn\n",
    "\n",
    "model = CNN()\n",
    "criterion = nn.CrossEntropyLoss()\n",
    "\n",
    "trainer = ClassificationTrainer(model=model, criterion=criterion, learning_rate=0.001, batch_size=1024, num_epochs=20, data_path='../data')\n",
    "trainer.optimize_hyperparameters(n_trials=15, learning_rate_range=(0.0001, 0.01), batch_size_options=[32, 64, 128, 256, 512])"
   ]
  },
  {
   "cell_type": "code",
   "execution_count": null,
   "metadata": {},
   "outputs": [],
   "source": [
    "trainer.train()\n",
    "trainer.plot_accuracy()\n",
    "trainer.save_model('../models/fashion_mnist_cnn.pth')"
   ]
  },
  {
   "cell_type": "code",
   "execution_count": null,
   "metadata": {},
   "outputs": [],
   "source": [
    "from autoencoders.models import Autoencoder\n",
    "from autoencoders.trainers import AutoencoderTrainer\n",
    "import torch.nn as nn\n",
    "\n",
    "model = Autoencoder(feature_size=28)\n",
    "criterion = nn.MSELoss()\n",
    "\n",
    "trainer = AutoencoderTrainer(model=model, criterion=criterion, learning_rate=0.001, batch_size=128, num_epochs=15, data_path='../data')\n",
    "trainer.optimize_hyperparameters(n_trials=15, learning_rate_range=(0.0001, 0.01), batch_size_options=[32, 64, 128, 256, 512])"
   ]
  },
  {
   "cell_type": "code",
   "execution_count": null,
   "metadata": {},
   "outputs": [],
   "source": [
    "trainer.train()\n",
    "trainer.plot_loss()\n",
    "trainer.save_model('../models/fashion_mnist_autoencoder.pth')"
   ]
  }
 ],
 "metadata": {
  "kernelspec": {
   "display_name": "base",
   "language": "python",
   "name": "python3"
  },
  "language_info": {
   "codemirror_mode": {
    "name": "ipython",
    "version": 3
   },
   "file_extension": ".py",
   "mimetype": "text/x-python",
   "name": "python",
   "nbconvert_exporter": "python",
   "pygments_lexer": "ipython3",
   "version": "3.11.10"
  }
 },
 "nbformat": 4,
 "nbformat_minor": 2
}
